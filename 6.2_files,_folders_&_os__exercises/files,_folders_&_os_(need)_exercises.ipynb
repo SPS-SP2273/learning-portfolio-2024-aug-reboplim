{
 "cells": [
  {
   "attachments": {},
   "cell_type": "markdown",
   "id": "123456",
   "metadata": {},
   "source": [
    "<div style=\"text-align:left;font-size:2em\"><span style=\"font-weight:bolder;font-size:1.25em\">SP2273 | Learning Portfolio</span><br><br><span style=\"font-weight:bold;color:darkred\">Files, Folders & OS (Need) Exercises</span></div>"
   ]
  },
  {
   "cell_type": "markdown",
   "id": "5751983d-e5c3-464a-ad17-8450d157c170",
   "metadata": {},
   "source": [
    "# Exercise 1 (Tidying a collaboration)"
   ]
  },
  {
   "cell_type": "markdown",
   "id": "59a7e13b-40b0-4d70-8550-b965025044af",
   "metadata": {},
   "source": [
    "## Task 1"
   ]
  },
  {
   "cell_type": "code",
   "execution_count": 28,
   "id": "7ad8ea23-db80-44ef-a633-ffecca300729",
   "metadata": {},
   "outputs": [],
   "source": [
    "import os\n",
    "import glob\n",
    "import shutil"
   ]
  },
  {
   "cell_type": "code",
   "execution_count": 6,
   "id": "c75c5ef8-e791-42f4-be64-d5e82b81c96b",
   "metadata": {},
   "outputs": [],
   "source": [
    "month_dictionary = {\n",
    "    'jan': '01', 'feb': '02', 'mar': '03',\n",
    "    'apr': '04', 'may': '05', 'jun': '06',\n",
    "    'jul': '07', 'aug': '08', 'sep': '09',\n",
    "    'oct': '10', 'nov': '11', 'dec': '12'\n",
    "}"
   ]
  },
  {
   "cell_type": "code",
   "execution_count": 7,
   "id": "6f03be14-ed23-4469-90fd-e3581bae50d0",
   "metadata": {},
   "outputs": [],
   "source": [
    "# Change the working directory to the data folder\n",
    "os.chdir('os-collaboration-exercise-data')"
   ]
  },
  {
   "cell_type": "code",
   "execution_count": 12,
   "id": "f52304c0-7c4e-4d04-9006-c34f34ae203c",
   "metadata": {},
   "outputs": [],
   "source": [
    "# Get all file names in the data folder\n",
    "file_names = glob.glob('*')\n",
    "\n",
    "# Iterate over all file names and rename the files\n",
    "for f in file_names:\n",
    "    # Get the month of the file\n",
    "    month = f[0:3]\n",
    "    # Rename the file\n",
    "    os.rename(f, f.replace(month, month_dictionary[month]))"
   ]
  },
  {
   "cell_type": "markdown",
   "id": "afaf040d-4f4e-4f33-baac-20cd9db6a1ea",
   "metadata": {},
   "source": [
    "## Task 2"
   ]
  },
  {
   "cell_type": "code",
   "execution_count": 16,
   "id": "0cc3bcbb-f5c3-4ec6-ac9f-e69bf0d69745",
   "metadata": {},
   "outputs": [],
   "source": [
    "def rename_my_file(old_file_name):\n",
    "    try:\n",
    "        month = old_file_name.split('-', 1)[0]\n",
    "        return old_file_name.replace(month, month_dictionary[month])\n",
    "    except KeyError:\n",
    "        # If the dictionary lookup fails, the file is already renamed or has an unknown month.\n",
    "        # Either way, we print an error message return the old file name.\n",
    "        print('Error: Unknown month prefix!')\n",
    "        return old_file_name"
   ]
  },
  {
   "cell_type": "code",
   "execution_count": 17,
   "id": "6cfea51d-5211-4e3a-ac9e-726ecfffe802",
   "metadata": {},
   "outputs": [
    {
     "data": {
      "text/plain": [
       "'05-10-singapore.txt'"
      ]
     },
     "execution_count": 17,
     "metadata": {},
     "output_type": "execute_result"
    }
   ],
   "source": [
    "rename_my_file('may-10-singapore.txt')"
   ]
  },
  {
   "cell_type": "markdown",
   "id": "f1dade07-295a-49a0-b78d-92e7f5b6c8c9",
   "metadata": {},
   "source": [
    "## Task 3"
   ]
  },
  {
   "cell_type": "code",
   "execution_count": 15,
   "id": "6ef77b1c-f70c-4515-907e-e1ab824b4610",
   "metadata": {},
   "outputs": [],
   "source": [
    "file_list = [\n",
    "    'oct-08_singapore.txt', 'jul-10_cairo.txt', 'may-15_dhaka.txt',\n",
    "    'may-13_cairo.txt', 'oct-21_cairo.txt', 'jan-10_singapore.txt',\n",
    "    'jun-20_tokyo.txt', 'aug-06_jakarta.txt', 'dec-21_karachi.txt',\n",
    "    'jan-01_tokyo.txt'\n",
    "]"
   ]
  },
  {
   "cell_type": "code",
   "execution_count": 16,
   "id": "4c189b0c-1f7c-438a-925b-a7c24cd0d590",
   "metadata": {},
   "outputs": [
    {
     "name": "stdout",
     "output_type": "stream",
     "text": [
      "oct-08_singapore.txt ----> 10-08_singapore.txt\n",
      "jul-10_cairo.txt ----> 07-10_cairo.txt\n",
      "may-15_dhaka.txt ----> 05-15_dhaka.txt\n",
      "may-13_cairo.txt ----> 05-13_cairo.txt\n",
      "oct-21_cairo.txt ----> 10-21_cairo.txt\n",
      "jan-10_singapore.txt ----> 01-10_singapore.txt\n",
      "jun-20_tokyo.txt ----> 06-20_tokyo.txt\n",
      "aug-06_jakarta.txt ----> 08-06_jakarta.txt\n",
      "dec-21_karachi.txt ----> 12-21_karachi.txt\n",
      "jan-01_tokyo.txt ----> 01-01_tokyo.txt\n"
     ]
    }
   ],
   "source": [
    "for f in file_list:\n",
    "    new_file_name = rename_my_file(f)\n",
    "    print(f'{f} ----> {new_file_name}')"
   ]
  },
  {
   "cell_type": "markdown",
   "id": "8375709a-1c2d-4238-8ad5-fd2608860038",
   "metadata": {},
   "source": [
    "## Task 4"
   ]
  },
  {
   "cell_type": "code",
   "execution_count": 19,
   "id": "90258b18-f8e8-49ea-9ff7-1d9153767d37",
   "metadata": {},
   "outputs": [],
   "source": [
    "# Get all the text files in the folder\n",
    "text_files = glob.glob('*.txt')\n",
    "\n",
    "for tf in text_files:\n",
    "    new_file_name = rename_my_file(tf)\n",
    "    os.rename(tf, new_file_name)"
   ]
  },
  {
   "cell_type": "markdown",
   "id": "3bf23f6c-51f9-4128-9e30-39f7ee568e77",
   "metadata": {},
   "source": [
    "## Task 5"
   ]
  },
  {
   "cell_type": "code",
   "execution_count": 59,
   "id": "44b73b03-ee6f-4ed0-a9cd-cf150cdde74b",
   "metadata": {},
   "outputs": [],
   "source": [
    "cities = ['Cairo', 'Dhaka', 'Jakarta', 'Karachi', 'Manila', 'Melbourne', 'Osaka', 'Shanghai', 'Singapore', 'Tokyo']"
   ]
  },
  {
   "cell_type": "code",
   "execution_count": 60,
   "id": "0d88710c-3dac-4b5f-b238-c51a08a2ed75",
   "metadata": {},
   "outputs": [],
   "source": [
    "for c in cities:\n",
    "    os.mkdir(c)"
   ]
  },
  {
   "cell_type": "markdown",
   "id": "b6550d9a-3ef1-43ad-ae75-b1893d5fe067",
   "metadata": {},
   "source": [
    "## Task 6"
   ]
  },
  {
   "cell_type": "code",
   "execution_count": 40,
   "id": "dc248d1e-96f7-4609-a02a-93c9aa06e462",
   "metadata": {},
   "outputs": [],
   "source": [
    "# Add a . to prevent glob from returning the Cairo directory name (we just want the files)\n",
    "cairo_files = glob.glob('*cairo*.*')"
   ]
  },
  {
   "cell_type": "code",
   "execution_count": 41,
   "id": "41e77ab7-00af-48dd-b7ba-cce1b66ca042",
   "metadata": {},
   "outputs": [],
   "source": [
    "for cf in cairo_files:\n",
    "    shutil.copy(cf, 'Cairo')"
   ]
  },
  {
   "cell_type": "markdown",
   "id": "a5377a93-7026-4a7e-880a-c32b33790216",
   "metadata": {},
   "source": [
    "## Task 7"
   ]
  },
  {
   "cell_type": "code",
   "execution_count": 61,
   "id": "f3589582-601e-40ed-8d55-28c068d53e0e",
   "metadata": {},
   "outputs": [],
   "source": [
    "all_files = glob.glob('*.*')"
   ]
  },
  {
   "cell_type": "code",
   "execution_count": 62,
   "id": "2ed13130-1736-4e88-8db4-b1e22a546409",
   "metadata": {},
   "outputs": [
    {
     "name": "stdout",
     "output_type": "stream",
     "text": [
      "{'cairo': 'Cairo', 'dhaka': 'Dhaka', 'jakarta': 'Jakarta', 'karachi': 'Karachi', 'manila': 'Manila', 'melbourne': 'Melbourne', 'osaka': 'Osaka', 'shanghai': 'Shanghai', 'singapore': 'Singapore', 'tokyo': 'Tokyo'}\n"
     ]
    }
   ],
   "source": [
    "cities_dict = dict(zip([c.lower() for c in cities], cities))\n",
    "print(cities_dict)"
   ]
  },
  {
   "cell_type": "code",
   "execution_count": 65,
   "id": "1ef5aaec-fefc-4b8e-8c25-498a3f171114",
   "metadata": {},
   "outputs": [],
   "source": [
    "for f in all_files:\n",
    "    # Iterate over all keys in the dictionary and check if the file name contains the key\n",
    "    for c in cities_dict.keys():\n",
    "        # Move the file if the file name contains th key\n",
    "        if c in f:\n",
    "            shutil.move(f, cities_dict[c])"
   ]
  }
 ],
 "metadata": {
  "kernelspec": {
   "display_name": "Python 3 (ipykernel)",
   "language": "python",
   "name": "python3"
  },
  "language_info": {
   "codemirror_mode": {
    "name": "ipython",
    "version": 3
   },
   "file_extension": ".py",
   "mimetype": "text/x-python",
   "name": "python",
   "nbconvert_exporter": "python",
   "pygments_lexer": "ipython3",
   "version": "3.12.5"
  },
  "toc": {
   "base_numbering": 1,
   "nav_menu": {},
   "number_sections": true,
   "sideBar": true,
   "skip_h1_title": false,
   "title_cell": "Table of Contents",
   "title_sidebar": "Contents",
   "toc_cell": false,
   "toc_position": {},
   "toc_section_display": true,
   "toc_window_display": false
  },
  "vscode": {
   "interpreter": {
    "hash": "31f2aee4e71d21fbe5cf8b01ff0e069b9275f58929596ceb00d14d90e3e16cd6"
   }
  }
 },
 "nbformat": 4,
 "nbformat_minor": 5
}
