{
 "cells": [
  {
   "attachments": {},
   "cell_type": "markdown",
   "id": "123456",
   "metadata": {},
   "source": [
    "<div style=\"text-align:left;font-size:2em\"><span style=\"font-weight:bolder;font-size:1.25em\">SP2273 | Learning Portfolio</span><br><br><span style=\"font-weight:bold;color:darkred\">Storing Data (Good) Exercises</span></div>"
   ]
  },
  {
   "cell_type": "markdown",
   "id": "2d66d12e-9262-45ae-9af5-81d58da93042",
   "metadata": {},
   "source": [
    "# Exercise 1 (Total recall)"
   ]
  },
  {
   "cell_type": "markdown",
   "id": "ff6a39d7-d2a1-4b6a-8f0d-1d39eb67213d",
   "metadata": {},
   "source": [
    "| **Term**   | **Brief description**                                                                               |\n",
    "|------------|-----------------------------------------------------------------------------------------------------|\n",
    "| Subsetting | Selecting part of the data in a list or an array.                                                   |\n",
    "| Indexing   | Selecting 1 element of a list or an array.                                                          |\n",
    "| Slicing    | Selecting a range of elements.                                                                      |\n",
    "| Masking    | Using a conditional expression to select elements of an array that satisfy the condition. |"
   ]
  },
  {
   "cell_type": "markdown",
   "id": "1488a28e-2a85-4cb0-bc60-c6bb4c4567cf",
   "metadata": {},
   "source": [
    "# Exercise 2 (Show me the 'odd' letters)"
   ]
  },
  {
   "cell_type": "code",
   "execution_count": 3,
   "id": "62dd723b-38f3-43eb-baab-c97032f9ef7c",
   "metadata": {},
   "outputs": [],
   "source": [
    "import numpy as np"
   ]
  },
  {
   "cell_type": "code",
   "execution_count": 4,
   "id": "84c8fed8-fb35-4573-87a4-49575bb7b3ff",
   "metadata": {},
   "outputs": [],
   "source": [
    "np_array_2d = np.array([[1, \"A\"], [3, \"C\"], [2, \"B\"], [4, \"D\"], [5, \"E\"], [7, \"G\"], [6, \"F\"], [8, \"H\"], [10, \"J\"], [9, \"I\"]])"
   ]
  },
  {
   "cell_type": "code",
   "execution_count": 9,
   "id": "0174366f-9ff0-4ccf-8ddc-2d62a8f9a37c",
   "metadata": {},
   "outputs": [],
   "source": [
    "# Obtain a slice of np_array_2d containing the first element of each array.\n",
    "# NumPy arrays can only store 1 data type. The integers will be promoted to a string during array creation,\n",
    "# according to promotion rules (https://numpy.org/doc/2.1/reference/arrays.promotion.html). Therefore, we\n",
    "# need to cast the array to the data type int.\n",
    "numbers = np_array_2d[:, 0].astype(int)"
   ]
  },
  {
   "cell_type": "code",
   "execution_count": 10,
   "id": "991167de-2f09-4da2-a946-58eb74d6bdad",
   "metadata": {},
   "outputs": [],
   "source": [
    "# Create a mask that returns True for odd numbers, and False otherwise.\n",
    "odd_mask = numbers % 2 == 1"
   ]
  },
  {
   "cell_type": "code",
   "execution_count": 11,
   "id": "80501027-38c3-4247-94d8-e6d1cb9bcee8",
   "metadata": {},
   "outputs": [
    {
     "name": "stdout",
     "output_type": "stream",
     "text": [
      "['A' 'C' 'E' 'G' 'I']\n"
     ]
    }
   ],
   "source": [
    "# Mask np_array_2d and print the associated letter of every element with an odd number.\n",
    "print(np_array_2d[odd_mask][:, 1])"
   ]
  },
  {
   "cell_type": "markdown",
   "id": "42449183-8e79-4b5c-b40c-5d1189e51afe",
   "metadata": {},
   "source": [
    "# Exercise 3"
   ]
  },
  {
   "cell_type": "code",
   "execution_count": 106,
   "id": "8e961002-557e-4acb-a398-d4ff4615524f",
   "metadata": {},
   "outputs": [],
   "source": [
    "data = [[66, 50, 57, -1, -1], [92, -1, 88, -1, -1], [75, -1, -1, 76, -1], [-1, 51, 87, -1, -1], [71, -1, 67, -1, 69]]"
   ]
  },
  {
   "cell_type": "code",
   "execution_count": 107,
   "id": "49c14dc4-6647-452d-b14d-a09b6004b13f",
   "metadata": {},
   "outputs": [],
   "source": [
    "np_data = np.array(data)"
   ]
  },
  {
   "cell_type": "code",
   "execution_count": 108,
   "id": "b0a9baee-5e1c-467f-983e-5c736c043df3",
   "metadata": {},
   "outputs": [],
   "source": [
    "# Create masks for numbers below, above and equal to 50.\n",
    "below_50_mask = np_data < 50\n",
    "above_50_mask = np_data > 50\n",
    "equal_50_mask = np_data == 50"
   ]
  },
  {
   "cell_type": "code",
   "execution_count": 109,
   "id": "1c18f8ac-7501-4f7c-8088-dbfea7d9ff3d",
   "metadata": {},
   "outputs": [],
   "source": [
    "np_data[below_50_mask] = -1\n",
    "np_data[above_50_mask] = 1\n",
    "np_data[equal_50_mask] = 0"
   ]
  },
  {
   "cell_type": "code",
   "execution_count": 110,
   "id": "12331d57-9217-4983-aa3c-6076fa13ff1f",
   "metadata": {},
   "outputs": [
    {
     "name": "stdout",
     "output_type": "stream",
     "text": [
      "[[ 1  0  1 -1 -1]\n",
      " [ 1 -1  1 -1 -1]\n",
      " [ 1 -1 -1  1 -1]\n",
      " [-1  1  1 -1 -1]\n",
      " [ 1 -1  1 -1  1]]\n"
     ]
    }
   ],
   "source": [
    "print(np_data)"
   ]
  }
 ],
 "metadata": {
  "kernelspec": {
   "display_name": "Python 3 (ipykernel)",
   "language": "python",
   "name": "python3"
  },
  "language_info": {
   "codemirror_mode": {
    "name": "ipython",
    "version": 3
   },
   "file_extension": ".py",
   "mimetype": "text/x-python",
   "name": "python",
   "nbconvert_exporter": "python",
   "pygments_lexer": "ipython3",
   "version": "3.12.5"
  },
  "toc": {
   "base_numbering": 1,
   "nav_menu": {},
   "number_sections": true,
   "sideBar": true,
   "skip_h1_title": false,
   "title_cell": "Table of Contents",
   "title_sidebar": "Contents",
   "toc_cell": false,
   "toc_position": {},
   "toc_section_display": true,
   "toc_window_display": false
  },
  "vscode": {
   "interpreter": {
    "hash": "31f2aee4e71d21fbe5cf8b01ff0e069b9275f58929596ceb00d14d90e3e16cd6"
   }
  }
 },
 "nbformat": 4,
 "nbformat_minor": 5
}
