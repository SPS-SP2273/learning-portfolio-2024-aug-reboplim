{
 "cells": [
  {
   "attachments": {},
   "cell_type": "markdown",
   "id": "123456",
   "metadata": {},
   "source": [
    "<div style=\"text-align:left;font-size:2em\"><span style=\"font-weight:bolder;font-size:1.25em\">SP2273 | Learning Portfolio</span><br><br><span style=\"font-weight:bold;color:darkred\">Storing Data (Need) Exercises</span></div>"
   ]
  },
  {
   "cell_type": "markdown",
   "id": "34293e66-d502-4dbf-838b-962a35e1973f",
   "metadata": {},
   "source": [
    "# Exercise 1 (Total recall?)"
   ]
  },
  {
   "cell_type": "markdown",
   "id": "f22ad13e-726a-4850-b64f-42a15587855f",
   "metadata": {},
   "source": [
    "1. Two similarities between lists and arrays.\n",
    "    - The order of elements matter in both lists and arrays.\n",
    "    - Elements in both lists and arrays are accessed with an index.\n",
    "2. Two differences between lists and arrays.\n",
    "    - The length of a list is obtained with the `len` function, which returns an integer. The length of an array can also be obtained with the `shape` property, which returns a tuple.\n",
    "    - Lists can hold elements of different data types (e.g., `[1.5, 2, 'Hello']`) while arrays require all elements to be one data type.\n",
    "3. A dictionary is a data structure that stores a key and an associated value."
   ]
  },
  {
   "cell_type": "markdown",
   "id": "3fe84ac7-0372-46bb-8c48-9ad1af627262",
   "metadata": {},
   "source": [
    "# Exercise 2 (Indexing)"
   ]
  },
  {
   "cell_type": "code",
   "execution_count": 1,
   "id": "77189f6e-9c45-4c3c-9437-2a4933c13830",
   "metadata": {},
   "outputs": [
    {
     "name": "stdout",
     "output_type": "stream",
     "text": [
      "a1\n",
      "c3\n",
      "e5\n",
      "g7\n",
      "i9\n"
     ]
    }
   ],
   "source": [
    "py_list = [\"a1\", \"b2\", \"c3\", \"d4\", \"e5\", \"f6\", \"g7\", \"h8\", \"i9\", \"j10\"]\n",
    "print(py_list[0])   # Prints 'a1'\n",
    "print(py_list[2])   # Prints 'c3'\n",
    "print(py_list[4])   # Prints 'e5'\n",
    "print(py_list[6])   # Prints 'g7'\n",
    "print(py_list[8])   # Prints 'i9'"
   ]
  },
  {
   "cell_type": "markdown",
   "id": "27e91b70-d30d-4fd7-96ca-ee8e56deea6c",
   "metadata": {},
   "source": [
    "# Exercise 3 (Index again)"
   ]
  },
  {
   "cell_type": "code",
   "execution_count": 2,
   "id": "9d3f2376-1607-41ce-a1ac-320c648ea755",
   "metadata": {},
   "outputs": [],
   "source": [
    "elements = ['Hydrogen',\n",
    "            'Helium', 'Lithium',\n",
    "            'Beryllium', 'Boron', 'Carbon',\n",
    "            'Nitrogen', 'Oxygen',\n",
    "            'Fluorine',\n",
    "            'Neon']"
   ]
  },
  {
   "cell_type": "code",
   "execution_count": 3,
   "id": "239336f6-1f1d-4342-9866-f87197cd7255",
   "metadata": {},
   "outputs": [
    {
     "name": "stdout",
     "output_type": "stream",
     "text": [
      "Boron\n"
     ]
    }
   ],
   "source": [
    "print(elements[4])"
   ]
  },
  {
   "cell_type": "code",
   "execution_count": 4,
   "id": "d03a31ca-a18c-4c3f-af85-d1a80ee0f65e",
   "metadata": {},
   "outputs": [
    {
     "name": "stdout",
     "output_type": "stream",
     "text": [
      "Boron\n"
     ]
    }
   ],
   "source": [
    "print(elements[-6])"
   ]
  },
  {
   "cell_type": "markdown",
   "id": "5ecc4e7f-8ca0-44f4-8c98-e1d0b9b4e189",
   "metadata": {},
   "source": [
    "# Exercise 4 (How many ones)"
   ]
  },
  {
   "cell_type": "code",
   "execution_count": 5,
   "id": "77d4b348-712f-4843-a8e1-0459a35da4d1",
   "metadata": {},
   "outputs": [],
   "source": [
    "numbers=[45, 60, 1, 30, 96, 1, 96, 57, 16, 1,\n",
    "        99, 62, 86, 43, 42, 60, 59, 1, 1, 35,\n",
    "        83, 47, 34, 28, 68, 23, 22, 92, 1, 79,\n",
    "        1, 29, 94, 72, 46, 47, 1, 74, 32, 20,\n",
    "        8, 37, 35, 1, 89, 29, 86, 19, 43, 61]"
   ]
  },
  {
   "cell_type": "code",
   "execution_count": 6,
   "id": "8ba5d24d-3feb-4fac-b513-e6dc442cbb70",
   "metadata": {},
   "outputs": [],
   "source": [
    "import numpy as np"
   ]
  },
  {
   "cell_type": "code",
   "execution_count": 7,
   "id": "7a6c1ee3-624b-4f06-8ce7-e4208c35fe0e",
   "metadata": {},
   "outputs": [
    {
     "data": {
      "text/plain": [
       "9"
      ]
     },
     "execution_count": 7,
     "metadata": {},
     "output_type": "execute_result"
    }
   ],
   "source": [
    "np_numbers = np.array([x == 1 for x in numbers])\n",
    "np_numbers.sum()"
   ]
  },
  {
   "cell_type": "markdown",
   "id": "38ea1949-cd99-4823-8ad2-81c941a651e6",
   "metadata": {},
   "source": [
    "# Exercise 5 (A Matter of Statistics)"
   ]
  },
  {
   "cell_type": "code",
   "execution_count": 8,
   "id": "5c63f851-7196-4bcb-86e8-3932e8230413",
   "metadata": {},
   "outputs": [],
   "source": [
    "x_1 = [1, 4, 9, 16, 25, 36, 49, 64, 81, 100]\n",
    "x_2 = [1, 8, 27, 64, 125, 216, 343, 512, 729, 1000]"
   ]
  },
  {
   "cell_type": "code",
   "execution_count": 9,
   "id": "0511053e-5652-4111-96f6-dfcafb2ffab6",
   "metadata": {},
   "outputs": [],
   "source": [
    "np_x_1 = np.array(x_1)\n",
    "np_x_2 = np.array(x_2)"
   ]
  },
  {
   "cell_type": "code",
   "execution_count": 12,
   "id": "256f47ce-1813-4e47-a415-2f2b356863d4",
   "metadata": {},
   "outputs": [
    {
     "name": "stdout",
     "output_type": "stream",
     "text": [
      "The mean of x_1 is: 38.5\n",
      "The mean of x_2 is: 302.5\n"
     ]
    }
   ],
   "source": [
    "x_1_mean = np_x_1.mean()\n",
    "print('The mean of x_1 is: ' + str(x_1_mean))\n",
    "x_2_mean = np_x_2.mean()\n",
    "print('The mean of x_2 is: ' + str(x_2_mean))"
   ]
  },
  {
   "cell_type": "code",
   "execution_count": 13,
   "id": "cb7d2436-31ae-4655-b73b-d84c55673ead",
   "metadata": {},
   "outputs": [
    {
     "name": "stdout",
     "output_type": "stream",
     "text": [
      "The standard deviation of x_1 is: 32.41990129534635\n",
      "The standard deviation of x_2 is: 326.0893282522444\n"
     ]
    }
   ],
   "source": [
    "x_1_std = np_x_1.std()\n",
    "print('The standard deviation of x_1 is: ' + str(x_1_std))\n",
    "x_2_std = np_x_2.std()\n",
    "print('The standard deviation of x_2 is: ' + str(x_2_std))"
   ]
  },
  {
   "cell_type": "code",
   "execution_count": 18,
   "id": "a9721610-c382-4d7d-8289-ffd80211bb76",
   "metadata": {},
   "outputs": [
    {
     "name": "stdout",
     "output_type": "stream",
     "text": [
      "0.9871796626270701\n"
     ]
    }
   ],
   "source": [
    "# Calculate the covariance of x_1 and x_2\n",
    "covariance = sum([(x1 - x_1_mean) * (x2 - x_2_mean) for x1, x2 in zip(x_1, x_2)])\n",
    "\n",
    "# Calculuate the Pearson correlation coefficient\n",
    "# Multiply the denominator by n to account for the 1/n term in the standard deviation\n",
    "r = covariance / (x_1_std * x_2_std * len(np_x_1))\n",
    "\n",
    "print(r)"
   ]
  },
  {
   "cell_type": "code",
   "execution_count": 19,
   "id": "3e6c1868-8215-4e0f-a49f-5a23aea9b050",
   "metadata": {},
   "outputs": [
    {
     "data": {
      "text/plain": [
       "array([[1.        , 0.98717966],\n",
       "       [0.98717966, 1.        ]])"
      ]
     },
     "execution_count": 19,
     "metadata": {},
     "output_type": "execute_result"
    }
   ],
   "source": [
    "np.corrcoef(np_x_1, np_x_2)"
   ]
  }
 ],
 "metadata": {
  "kernelspec": {
   "display_name": "Python 3 (ipykernel)",
   "language": "python",
   "name": "python3"
  },
  "language_info": {
   "codemirror_mode": {
    "name": "ipython",
    "version": 3
   },
   "file_extension": ".py",
   "mimetype": "text/x-python",
   "name": "python",
   "nbconvert_exporter": "python",
   "pygments_lexer": "ipython3",
   "version": "3.12.5"
  },
  "toc": {
   "base_numbering": 1,
   "nav_menu": {},
   "number_sections": true,
   "sideBar": true,
   "skip_h1_title": false,
   "title_cell": "Table of Contents",
   "title_sidebar": "Contents",
   "toc_cell": false,
   "toc_position": {},
   "toc_section_display": true,
   "toc_window_display": false
  },
  "vscode": {
   "interpreter": {
    "hash": "31f2aee4e71d21fbe5cf8b01ff0e069b9275f58929596ceb00d14d90e3e16cd6"
   }
  }
 },
 "nbformat": 4,
 "nbformat_minor": 5
}
