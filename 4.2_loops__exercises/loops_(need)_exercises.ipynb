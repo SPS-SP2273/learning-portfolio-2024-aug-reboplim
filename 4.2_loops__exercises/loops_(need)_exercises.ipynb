{
 "cells": [
  {
   "attachments": {},
   "cell_type": "markdown",
   "id": "123456",
   "metadata": {},
   "source": [
    "<div style=\"text-align:left;font-size:2em\"><span style=\"font-weight:bolder;font-size:1.25em\">SP2273 | Learning Portfolio</span><br><br><span style=\"font-weight:bold;color:darkred\">Loops (Need) Exercises</span></div>"
   ]
  },
  {
   "cell_type": "markdown",
   "id": "5bf21e71-13e4-42de-b825-7fd5358ef7df",
   "metadata": {},
   "source": [
    "# Exercise 1 (Celsius to Fahrenheit)"
   ]
  },
  {
   "cell_type": "code",
   "execution_count": 27,
   "id": "f7d0fd7e-399a-4d8b-941e-87bbbc23db17",
   "metadata": {},
   "outputs": [],
   "source": [
    "temperatures_celsius = [0, 5, 10, 15, 20, 25, 30, 35, 40, 45, 50]"
   ]
  },
  {
   "cell_type": "code",
   "execution_count": 28,
   "id": "b79020d5-50f7-44ab-a40f-14232d583876",
   "metadata": {},
   "outputs": [],
   "source": [
    "temperatures_fahrenheit = [(x * 1.8) + 32 for x in temperatures_celsius]"
   ]
  },
  {
   "cell_type": "code",
   "execution_count": 29,
   "id": "fe2c3e63-d387-4ffa-bf14-73527a231c0e",
   "metadata": {},
   "outputs": [
    {
     "name": "stdout",
     "output_type": "stream",
     "text": [
      "0, 32.0\n",
      "5, 41.0\n",
      "10, 50.0\n",
      "15, 59.0\n",
      "20, 68.0\n",
      "25, 77.0\n",
      "30, 86.0\n",
      "35, 95.0\n",
      "40, 104.0\n",
      "45, 113.0\n",
      "50, 122.0\n"
     ]
    }
   ],
   "source": [
    "for tc, tf in zip(temperatures_celsius, temperatures_fahrenheit):\n",
    "    print(str(tc) + ', ' + str(tf))"
   ]
  },
  {
   "cell_type": "markdown",
   "id": "7b8db75d-ef4f-436c-82fa-7ec93c60714d",
   "metadata": {},
   "source": [
    "# Exercise 2 (Multiplication table)"
   ]
  },
  {
   "cell_type": "code",
   "execution_count": 30,
   "id": "5e9b4fd5-419d-47a2-a444-5582b9d77547",
   "metadata": {},
   "outputs": [
    {
     "name": "stdout",
     "output_type": "stream",
     "text": [
      "1: 1   2   3   4   5   \n",
      "2: 2   4   6   8   10  \n",
      "3: 3   6   9   12  15  \n",
      "4: 4   8   12  16  20  \n",
      "5: 5   10  15  20  25  \n"
     ]
    }
   ],
   "source": [
    "for x in range(1, 6):\n",
    "    print(x, end=\": \")\n",
    "    for y in range(1, 6):\n",
    "        print(f'{x * y:<4}', end='')\n",
    "    print('')"
   ]
  },
  {
   "cell_type": "markdown",
   "id": "04842498-aa3a-4e72-9ce7-2f4cf0e0051d",
   "metadata": {},
   "source": [
    "# Exercise 3 (Simulating a Coin Flip Experiment)"
   ]
  },
  {
   "cell_type": "code",
   "execution_count": 31,
   "id": "2d6c8e5e-6429-4814-a931-ccc7b6a9a55a",
   "metadata": {},
   "outputs": [],
   "source": [
    "import numpy as np"
   ]
  },
  {
   "cell_type": "code",
   "execution_count": 32,
   "id": "30d9be5b-0aab-42cd-a3e3-bbd131159d2b",
   "metadata": {},
   "outputs": [
    {
     "name": "stdout",
     "output_type": "stream",
     "text": [
      "Experiment  1: No. of Heads = 3\n",
      "Experiment  2: No. of Heads = 3\n",
      "Experiment  3: No. of Heads = 7\n",
      "Experiment  4: No. of Heads = 5\n",
      "Experiment  5: No. of Heads = 4\n",
      "Experiment  6: No. of Heads = 2\n",
      "Experiment  7: No. of Heads = 4\n",
      "Experiment  8: No. of Heads = 3\n",
      "Experiment  9: No. of Heads = 4\n",
      "Experiment 10: No. of Heads = 2\n"
     ]
    }
   ],
   "source": [
    "for experiment_num in range(1, 11):\n",
    "    data = np.random.rand(10)\n",
    "    heads = np.sum(data > 0.5)\n",
    "    print(f'Experiment {experiment_num:>2}: No. of Heads = {heads}')"
   ]
  }
 ],
 "metadata": {
  "kernelspec": {
   "display_name": "Python 3 (ipykernel)",
   "language": "python",
   "name": "python3"
  },
  "language_info": {
   "codemirror_mode": {
    "name": "ipython",
    "version": 3
   },
   "file_extension": ".py",
   "mimetype": "text/x-python",
   "name": "python",
   "nbconvert_exporter": "python",
   "pygments_lexer": "ipython3",
   "version": "3.12.5"
  },
  "toc": {
   "base_numbering": 1,
   "nav_menu": {},
   "number_sections": true,
   "sideBar": true,
   "skip_h1_title": false,
   "title_cell": "Table of Contents",
   "title_sidebar": "Contents",
   "toc_cell": false,
   "toc_position": {},
   "toc_section_display": true,
   "toc_window_display": false
  },
  "vscode": {
   "interpreter": {
    "hash": "31f2aee4e71d21fbe5cf8b01ff0e069b9275f58929596ceb00d14d90e3e16cd6"
   }
  }
 },
 "nbformat": 4,
 "nbformat_minor": 5
}
