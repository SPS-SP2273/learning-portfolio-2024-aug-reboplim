{
 "cells": [
  {
   "attachments": {},
   "cell_type": "markdown",
   "id": "123456",
   "metadata": {},
   "source": [
    "<div style=\"text-align:left;font-size:2em\"><span style=\"font-weight:bolder;font-size:1.25em\">SP2273 | Learning Portfolio</span><br><br><span style=\"font-weight:bold;color:darkred\">Functions (Need) Exercises</span></div>"
   ]
  },
  {
   "cell_type": "markdown",
   "id": "7c24c936-c660-466f-97f4-da48a947467f",
   "metadata": {},
   "source": [
    "# Exercise 1 (Do you know why?)"
   ]
  },
  {
   "cell_type": "code",
   "execution_count": 1,
   "id": "56618713-7e02-4ef0-8048-f842d119dbcf",
   "metadata": {},
   "outputs": [],
   "source": [
    "def greeting(name):\n",
    "    if name == 'Batman':\n",
    "        return 'Hello Batman! So, nice to meet you!'\n",
    "    return f'Hello {name}!'"
   ]
  },
  {
   "cell_type": "markdown",
   "id": "566eda3d-7c19-4e35-819c-5052b568091f",
   "metadata": {},
   "source": [
    "If the argument to the function is `'Batman'`, the function returns the string `'Hello Batman! So, nice to meet you!'`.\n",
    "\n",
    "If the argument to the function is anything else, the function returns the formatted string `f'Hello {name}!'`.\n",
    "\n",
    "All outcomes of the `if` statement are handled, therefore the code works as expected."
   ]
  },
  {
   "cell_type": "markdown",
   "id": "64060453-2699-43b9-bdd6-9cef3b8c3a8f",
   "metadata": {},
   "source": [
    "# Exercise 2 (Chubby or not)"
   ]
  },
  {
   "cell_type": "code",
   "execution_count": 7,
   "id": "791d488f-005a-4b81-91ae-e76f9c87221f",
   "metadata": {},
   "outputs": [],
   "source": [
    "def calculate_bmi(weight, height):\n",
    "    bmi = weight / (height ** 2)\n",
    "    categories = {\"Overweight\": 30, \"Normal weight\": 25, \"Underweight\": 18.6}\n",
    "    result = \"Obese\"\n",
    "    for category, bmi_range in categories.items():\n",
    "        if bmi < bmi_range:\n",
    "            result = category\n",
    "    return result"
   ]
  },
  {
   "cell_type": "markdown",
   "id": "49604ca1-53d9-45e4-8623-5f35982eada2",
   "metadata": {},
   "source": [
    "# Exercise 3 (Factorials)"
   ]
  },
  {
   "cell_type": "code",
   "execution_count": 17,
   "id": "2f0cfa86-50f6-467c-a8b9-d278d9f08002",
   "metadata": {},
   "outputs": [],
   "source": [
    "def factorial(n):\n",
    "    if n < 1:\n",
    "        print('Error: Input must be greater than or equal to 1!')\n",
    "        return\n",
    "    elif n == 1:\n",
    "        return 1\n",
    "    else:\n",
    "        return n * factorial(n - 1)"
   ]
  },
  {
   "cell_type": "code",
   "execution_count": 19,
   "id": "2ca546d8-7c6b-4f03-8c8b-c236f3c57033",
   "metadata": {},
   "outputs": [
    {
     "name": "stdout",
     "output_type": "stream",
     "text": [
      "120\n",
      "Error: Input must be greater than or equal to 1!\n"
     ]
    }
   ],
   "source": [
    "print(factorial(5)) # Returns 120\n",
    "factorial(-1)       # Prints an error message and returns None"
   ]
  }
 ],
 "metadata": {
  "kernelspec": {
   "display_name": "Python 3 (ipykernel)",
   "language": "python",
   "name": "python3"
  },
  "language_info": {
   "codemirror_mode": {
    "name": "ipython",
    "version": 3
   },
   "file_extension": ".py",
   "mimetype": "text/x-python",
   "name": "python",
   "nbconvert_exporter": "python",
   "pygments_lexer": "ipython3",
   "version": "3.12.5"
  },
  "toc": {
   "base_numbering": 1,
   "nav_menu": {},
   "number_sections": true,
   "sideBar": true,
   "skip_h1_title": false,
   "title_cell": "Table of Contents",
   "title_sidebar": "Contents",
   "toc_cell": false,
   "toc_position": {},
   "toc_section_display": true,
   "toc_window_display": false
  },
  "vscode": {
   "interpreter": {
    "hash": "31f2aee4e71d21fbe5cf8b01ff0e069b9275f58929596ceb00d14d90e3e16cd6"
   }
  }
 },
 "nbformat": 4,
 "nbformat_minor": 5
}
