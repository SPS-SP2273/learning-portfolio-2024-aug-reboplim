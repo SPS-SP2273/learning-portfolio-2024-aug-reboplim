{
 "cells": [
  {
   "attachments": {},
   "cell_type": "markdown",
   "id": "123456",
   "metadata": {},
   "source": [
    "<div style=\"text-align:left;font-size:2em\"><span style=\"font-weight:bolder;font-size:1.25em\">SP2273 | Learning Portfolio</span><br><br><span style=\"font-weight:bold;color:darkred\">Functions (Good) Exercises</span></div>"
   ]
  },
  {
   "cell_type": "markdown",
   "id": "de7b19d3-deb4-461d-9d09-9ff37bee55f9",
   "metadata": {},
   "source": [
    "# Exercise 1 (Celsius to Fahrenheit or Kelvin)"
   ]
  },
  {
   "cell_type": "code",
   "execution_count": 5,
   "id": "60e42eff-e5c5-47f7-801e-a2da421307a1",
   "metadata": {},
   "outputs": [],
   "source": [
    "def convert_celsius(temperature_celsius, target_scale='Fahrenheit'):\n",
    "    if target_scale == 'Kelvin':\n",
    "        return temperature_celsius + 273.15\n",
    "    elif target_scale == 'Fahrenheit':\n",
    "        return (temperature_celsius * 1.8) + 32\n",
    "    else:\n",
    "        print('Error: Invalid target scale for conversion!')\n",
    "        return"
   ]
  },
  {
   "cell_type": "code",
   "execution_count": 6,
   "id": "f4783583-64fc-4e71-8508-1e79d88d0e4f",
   "metadata": {},
   "outputs": [
    {
     "data": {
      "text/plain": [
       "32.0"
      ]
     },
     "execution_count": 6,
     "metadata": {},
     "output_type": "execute_result"
    }
   ],
   "source": [
    "convert_celsius(0, target_scale='Fahrenheit')"
   ]
  },
  {
   "cell_type": "code",
   "execution_count": 7,
   "id": "c565c73c-a914-4699-a821-5efe9baa4267",
   "metadata": {},
   "outputs": [
    {
     "data": {
      "text/plain": [
       "273.15"
      ]
     },
     "execution_count": 7,
     "metadata": {},
     "output_type": "execute_result"
    }
   ],
   "source": [
    "convert_celsius(0, target_scale='Kelvin')"
   ]
  },
  {
   "cell_type": "code",
   "execution_count": 8,
   "id": "ed80ca04-984d-4421-851c-5089343aff7a",
   "metadata": {},
   "outputs": [
    {
     "name": "stdout",
     "output_type": "stream",
     "text": [
      "Error: Invalid target scale for conversion!\n"
     ]
    }
   ],
   "source": [
    "convert_celsius(0, target_scale='SomeRandomScale')"
   ]
  },
  {
   "cell_type": "markdown",
   "id": "9454867c-22e4-41d7-8f3a-51693e6c1e43",
   "metadata": {},
   "source": [
    "# Exercise 2 (Fahrenheit to Celsius or Kelvin)"
   ]
  },
  {
   "cell_type": "code",
   "execution_count": 9,
   "id": "13127b2c-d232-4971-90dd-b5c5acaca6e8",
   "metadata": {},
   "outputs": [],
   "source": [
    "def convert_fahrenheit(temperature_fahrenheit, target_scale='Celsius'):\n",
    "    if target_scale == 'Kelvin':\n",
    "        return (temperature_fahrenheit - 32) * (5 / 9) + 273.15\n",
    "    elif target_scale == 'Celsius':\n",
    "        return (temperature_fahrenheit - 32) * (5 / 9)\n",
    "    else:\n",
    "        print('Error: Invalid target scale for conversion!')\n",
    "        return"
   ]
  },
  {
   "cell_type": "code",
   "execution_count": 10,
   "id": "ab64eede-fd21-4512-b52b-6826aeedb3f2",
   "metadata": {},
   "outputs": [
    {
     "data": {
      "text/plain": [
       "0.0"
      ]
     },
     "execution_count": 10,
     "metadata": {},
     "output_type": "execute_result"
    }
   ],
   "source": [
    "convert_fahrenheit(32, target_scale='Celsius')"
   ]
  },
  {
   "cell_type": "code",
   "execution_count": 11,
   "id": "b00c07bd-ea4d-469a-9661-a893ef854b0f",
   "metadata": {},
   "outputs": [
    {
     "data": {
      "text/plain": [
       "273.15"
      ]
     },
     "execution_count": 11,
     "metadata": {},
     "output_type": "execute_result"
    }
   ],
   "source": [
    "convert_fahrenheit(32, target_scale='Kelvin')"
   ]
  },
  {
   "cell_type": "code",
   "execution_count": 12,
   "id": "6b64d5e6-7d58-4052-8723-eeaced6814cc",
   "metadata": {},
   "outputs": [
    {
     "name": "stdout",
     "output_type": "stream",
     "text": [
      "Error: Invalid target scale for conversion!\n"
     ]
    }
   ],
   "source": [
    "convert_fahrenheit(32, target_scale='SomeRandomScale')"
   ]
  },
  {
   "cell_type": "markdown",
   "id": "9011abcd-36f7-4bd5-8c6c-3d477a1db107",
   "metadata": {},
   "source": [
    "# Exercise 3 (General Temperature Conversion)"
   ]
  },
  {
   "cell_type": "code",
   "execution_count": 13,
   "id": "d454fa13-22ec-4ccd-b104-c9d7851c460e",
   "metadata": {},
   "outputs": [],
   "source": [
    "def convert_kelvin(temperature_kelvin, target_scale='Celsius'):\n",
    "    if target_scale == 'Fahrenheit':\n",
    "        return (temperature_kelvin - 273.15) * 1.8 + 32\n",
    "    elif target_scale == 'Celsius':\n",
    "        return temperature_kelvin - 273.15\n",
    "    else:\n",
    "        print('Error: Invalid target scale for conversion!')\n",
    "        return"
   ]
  },
  {
   "cell_type": "code",
   "execution_count": 14,
   "id": "dece1ef7-f5a2-4ce5-9df3-91dd84400221",
   "metadata": {},
   "outputs": [],
   "source": [
    "def convert_temperature(temperature, source_scale, target_scale):\n",
    "    if source_scale == 'Celsius':\n",
    "        convert_celsius(temperature, target_scale)\n",
    "    elif source_scale == 'Fahrenheit':\n",
    "        convert_fahrenheit(temperature, target_scale)\n",
    "    elif source_scale == 'Kelvin':\n",
    "        convert_kelvin(temperature, target_scale)\n",
    "    else:\n",
    "        print('Error: Invalid source scale for conversion!')\n",
    "        return"
   ]
  },
  {
   "cell_type": "markdown",
   "id": "d9f48d59-ff72-4264-b88c-75793b7577a8",
   "metadata": {},
   "source": [
    "# Optional Exercise: Palindromes"
   ]
  },
  {
   "cell_type": "code",
   "execution_count": 56,
   "id": "b9a7b33a-b509-414f-ad4c-dd230c84619e",
   "metadata": {},
   "outputs": [],
   "source": [
    "def sanitize_input(x):\n",
    "    # Check if the input is already alphanumeric.\n",
    "    if x.isalnum() == True:\n",
    "        return x.lower()\n",
    "    else:\n",
    "        # Iterate over each character of the input.\n",
    "        # If it is alphanumeric, append it to the result string.\n",
    "        result = \"\"\n",
    "        for character in x:\n",
    "            # Check the Unicode code point of the character.\n",
    "            # Valid code point ranges: 48-57 (ASCII digits), 65-90 (uppercase letters), 97-122 (lowercase letters).\n",
    "            # We could also use a regular expression here... or we could make a list of \"allowed characters\" and\n",
    "            # filter based on that.\n",
    "            c = ord(character)\n",
    "            if (c > 47 and c < 58) or (c > 64 and c < 91) or (c > 96 and c < 123):\n",
    "                result += character\n",
    "        return result.lower()"
   ]
  },
  {
   "cell_type": "code",
   "execution_count": 57,
   "id": "824f36f0-2f44-4f32-bf33-980681575e1d",
   "metadata": {},
   "outputs": [],
   "source": [
    "def check_palindrome(x):\n",
    "    # Convert the input to a string and remove non-alphanumeric characters.\n",
    "    string_input = sanitize_input(str(x))\n",
    "    \n",
    "    # Check each character and its \"mirror image\". We only need to iterate\n",
    "    # from the first character up to (and not including) the middle character.\n",
    "    for i in range(len(string_input) // 2):\n",
    "        if string_input[i] != string_input[-(i + 1)]:\n",
    "            return False\n",
    "    return True"
   ]
  },
  {
   "cell_type": "code",
   "execution_count": 58,
   "id": "a828731c-b93f-41f2-8faf-038bfa37c37c",
   "metadata": {},
   "outputs": [
    {
     "name": "stdout",
     "output_type": "stream",
     "text": [
      "True\n",
      "True\n",
      "True\n"
     ]
    }
   ],
   "source": [
    "print(check_palindrome(\"Did Hannah see bees? Hannah did.\"))\n",
    "print(check_palindrome(123.21))\n",
    "print(check_palindrome(\"Level\"))"
   ]
  },
  {
   "cell_type": "code",
   "execution_count": 59,
   "id": "3ecd49b5-ae60-4f8c-889b-e9fe1b420920",
   "metadata": {},
   "outputs": [
    {
     "name": "stdout",
     "output_type": "stream",
     "text": [
      "False\n",
      "False\n"
     ]
    }
   ],
   "source": [
    "print(check_palindrome(45678))\n",
    "print(check_palindrome(\"Not a palindrome!\"))"
   ]
  }
 ],
 "metadata": {
  "kernelspec": {
   "display_name": "Python 3 (ipykernel)",
   "language": "python",
   "name": "python3"
  },
  "language_info": {
   "codemirror_mode": {
    "name": "ipython",
    "version": 3
   },
   "file_extension": ".py",
   "mimetype": "text/x-python",
   "name": "python",
   "nbconvert_exporter": "python",
   "pygments_lexer": "ipython3",
   "version": "3.12.5"
  },
  "toc": {
   "base_numbering": 1,
   "nav_menu": {},
   "number_sections": true,
   "sideBar": true,
   "skip_h1_title": false,
   "title_cell": "Table of Contents",
   "title_sidebar": "Contents",
   "toc_cell": false,
   "toc_position": {},
   "toc_section_display": true,
   "toc_window_display": false
  },
  "vscode": {
   "interpreter": {
    "hash": "31f2aee4e71d21fbe5cf8b01ff0e069b9275f58929596ceb00d14d90e3e16cd6"
   }
  }
 },
 "nbformat": 4,
 "nbformat_minor": 5
}
