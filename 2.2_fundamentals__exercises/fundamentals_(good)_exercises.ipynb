{
 "cells": [
  {
   "attachments": {},
   "cell_type": "markdown",
   "id": "123456",
   "metadata": {},
   "source": [
    "<div style=\"text-align:left;font-size:2em\"><span style=\"font-weight:bolder;font-size:1.25em\">SP2273 | Learning Portfolio</span><br><br><span style=\"font-weight:bold;color:darkred\">Fundamentals (Good) Exercises</span></div>"
   ]
  },
  {
   "cell_type": "markdown",
   "id": "1f98a72a-1f60-4c69-87cb-8680b96a6a54",
   "metadata": {},
   "source": [
    "# Exercise 1 (f-strings to the rescue)"
   ]
  },
  {
   "cell_type": "code",
   "execution_count": 1,
   "id": "c89ccc85-c47b-4ac7-93ec-a471253e2d98",
   "metadata": {},
   "outputs": [
    {
     "name": "stdin",
     "output_type": "stream",
     "text": [
      "What is your name? Ryan\n"
     ]
    },
    {
     "name": "stdout",
     "output_type": "stream",
     "text": [
      "How you doin RYAN!\n"
     ]
    }
   ],
   "source": [
    "name = input('What is your name?')\n",
    "print(f'How you doin {name.upper()}!')"
   ]
  },
  {
   "cell_type": "code",
   "execution_count": 6,
   "id": "29338fcf-8116-4f46-9f63-2fc06f39ab46",
   "metadata": {},
   "outputs": [
    {
     "name": "stdin",
     "output_type": "stream",
     "text": [
      "What is your name? Ryan\n",
      "What is your age? 20\n"
     ]
    },
    {
     "name": "stdout",
     "output_type": "stream",
     "text": [
      "My name is Ryan and I am 20 years old.\n"
     ]
    }
   ],
   "source": [
    "name = input('What is your name?')\n",
    "age = input('What is your age?')\n",
    "print(f'My name is {name} and I am {age} years old.')"
   ]
  },
  {
   "cell_type": "code",
   "execution_count": 15,
   "id": "8c7f7d18-f564-4621-ac1b-a18f02a8ad49",
   "metadata": {},
   "outputs": [
    {
     "name": "stdout",
     "output_type": "stream",
     "text": [
      "The value of pi to 2 decimal places is: 3.14\n",
      "The value of pi to 3 decimal places is: 3.142\n",
      "The value of pi to 4 decimal places is: 3.1416\n"
     ]
    }
   ],
   "source": [
    "pi = 3.141592653589793\n",
    "print(f'The value of pi to 2 decimal places is: {pi:.2f}')\n",
    "print(f'The value of pi to 3 decimal places is: {pi:.3f}')\n",
    "print(f'The value of pi to 4 decimal places is: {pi:.4f}')"
   ]
  },
  {
   "cell_type": "code",
   "execution_count": 14,
   "id": "4be59bc8-79ed-420f-b700-a962660cd251",
   "metadata": {
    "scrolled": true
   },
   "outputs": [
    {
     "name": "stdout",
     "output_type": "stream",
     "text": [
      "Apple      $ 0.99\n",
      "Banana     $ 0.59\n",
      "Orange     $ 1.29\n"
     ]
    }
   ],
   "source": [
    "data = {'Apple': 0.99, 'Banana': 0.59, 'Orange': 1.29}\n",
    "for fruit, price in data.items():\n",
    "    print(f'{fruit:<10} ${price:>5}')"
   ]
  },
  {
   "cell_type": "markdown",
   "id": "2990b5b0-6b22-46d4-8d7b-56b1bc1b9bbe",
   "metadata": {},
   "source": [
    "# Exercise 2 (What is your grade?)"
   ]
  },
  {
   "cell_type": "code",
   "execution_count": 14,
   "id": "d623e34d-ce36-4339-96b3-a364b2b3db70",
   "metadata": {},
   "outputs": [],
   "source": [
    "def validate_score(score):\n",
    "    try:\n",
    "        result = int(score)\n",
    "        if result < 0 or result > 100:\n",
    "            print('Error: Input must be between 0 and 100 (inclusive)!')\n",
    "            return\n",
    "        return result\n",
    "    except ValueError:\n",
    "        print('Error: Input is not an integer!')\n",
    "        return"
   ]
  },
  {
   "cell_type": "code",
   "execution_count": 15,
   "id": "d8c7de56-f488-4321-8b79-8c335a8a81b2",
   "metadata": {},
   "outputs": [],
   "source": [
    "def check_grade(score):\n",
    "    if score < 35:\n",
    "        return 'Fail'\n",
    "    elif score >= 35 and score < 50:\n",
    "        return 'C'\n",
    "    elif score >= 50 and score < 70:\n",
    "        return 'B'\n",
    "    else:\n",
    "        return 'A'"
   ]
  },
  {
   "cell_type": "code",
   "execution_count": 18,
   "id": "d1367413-3878-48ae-896c-9e9c2df510c0",
   "metadata": {},
   "outputs": [
    {
     "name": "stdin",
     "output_type": "stream",
     "text": [
      "Enter the student's score: 50\n"
     ]
    },
    {
     "name": "stdout",
     "output_type": "stream",
     "text": [
      "The student's letter grade is: B\n"
     ]
    }
   ],
   "source": [
    "score_input = input(\"Enter the student's score:\")\n",
    "score = validate_score(score_input)\n",
    "if score:\n",
    "    grade = check_grade(score)\n",
    "    print(f\"The student's letter grade is: {grade}\")"
   ]
  },
  {
   "cell_type": "markdown",
   "id": "4b062537-0441-4d61-bde8-1c5ddd3f9ef1",
   "metadata": {},
   "source": [
    "# Exercise 3 (Debugging Code)"
   ]
  },
  {
   "cell_type": "code",
   "execution_count": 21,
   "id": "b6d08842-2a76-4449-ae7c-18571767b1e2",
   "metadata": {},
   "outputs": [
    {
     "name": "stdout",
     "output_type": "stream",
     "text": [
      "120\n",
      "Invalid input\n"
     ]
    }
   ],
   "source": [
    "def factorial(n):\n",
    "    if n < 0:\n",
    "        return \"Invalid input\"\n",
    "    elif n == 0:\n",
    "        return 1\n",
    "    else:\n",
    "        result = 1\n",
    "        for number in range(1, n+1):\n",
    "            result *= number\n",
    "        return result\n",
    "\n",
    "\n",
    "print(factorial(5))   # Testing, expected output: 120\n",
    "print(factorial(-1))  # Testing, expected output: Invalid input"
   ]
  }
 ],
 "metadata": {
  "kernelspec": {
   "display_name": "Python 3 (ipykernel)",
   "language": "python",
   "name": "python3"
  },
  "language_info": {
   "codemirror_mode": {
    "name": "ipython",
    "version": 3
   },
   "file_extension": ".py",
   "mimetype": "text/x-python",
   "name": "python",
   "nbconvert_exporter": "python",
   "pygments_lexer": "ipython3",
   "version": "3.12.5"
  },
  "toc": {
   "base_numbering": 1,
   "nav_menu": {},
   "number_sections": true,
   "sideBar": true,
   "skip_h1_title": false,
   "title_cell": "Table of Contents",
   "title_sidebar": "Contents",
   "toc_cell": false,
   "toc_position": {},
   "toc_section_display": true,
   "toc_window_display": false
  },
  "vscode": {
   "interpreter": {
    "hash": "31f2aee4e71d21fbe5cf8b01ff0e069b9275f58929596ceb00d14d90e3e16cd6"
   }
  }
 },
 "nbformat": 4,
 "nbformat_minor": 5
}
