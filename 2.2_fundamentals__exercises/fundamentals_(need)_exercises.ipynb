{
 "cells": [
  {
   "attachments": {},
   "cell_type": "markdown",
   "id": "123456",
   "metadata": {},
   "source": [
    "<div style=\"text-align:left;font-size:2em\"><span style=\"font-weight:bolder;font-size:1.25em\">SP2273 | Learning Portfolio</span><br><br><span style=\"font-weight:bold;color:darkred\">Fundamentals (Need) Exercises</span></div>"
   ]
  },
  {
   "cell_type": "markdown",
   "id": "31a28352-1c85-4878-8fd5-02f25b750529",
   "metadata": {},
   "source": [
    "# Exercise 1 (Total recall?) "
   ]
  },
  {
   "cell_type": "markdown",
   "id": "e33ad996-3e85-4b97-8033-8421e1945804",
   "metadata": {},
   "source": [
    "- Functions in Python perform actions.\n",
    "    - A function has a name, followed by a pair of parentheses.\n",
    "    - When the function is defined, values inside the parentheses are parameters, which are placeholders for inputs to the function.\n",
    "    - When the function is executed, values inside the parentheses are arguments, which are the actual values passed into the function.\n",
    "    - Some functions in Python (e.g., the `print` function) are built-in.\n",
    "    - We can define our own functions with the `def` keyword.\n",
    "- Python is interpreted.\n",
    "    - An interpreter executes code sequentially (line by line).\n",
    "- We can annotate code with comments.\n",
    "    - A comment starts with a hash symbol (\"#\") and ends at the end of the line.\n",
    "    - The Python interpreter ignores comments.\n",
    "- Equality (`==`) and assignment (`=`) are different in code.\n",
    "    - The equal-to operator (`==`) compares two values and returns a `True` value if both are equal. Otherwise, it returns a `False` value.\n",
    "    - The assignment operator (`=`) is used to assign values to variables.\n",
    "    - E.g., `a = 2` assigns the value 2 to a variable named `a`.\n",
    "- *The `if` statement is used to test a condition and execute code depending on the result of the test.*\n",
    "- *Indentation/whitespace is important in Python.*\n",
    "    - *Other languages like C++ or R use brackets.*\n",
    "- *Variables are \"containers\" for information.*\n",
    "    - *Variables have a name and value.*\n",
    "    - *`age` is a variable while `\"age\"` is a string literal.*\n",
    "- *Python uses brackets for many purposes.*\n",
    "    - *Round brackets (`()`) are used in function calls, ordering math operations.*\n",
    "    - *Square brackets (`[]`) are used in lists.*\n",
    "    - *Curly brackets (`{}`) are used in dictionaries.*\n",
    "    - *Dictionaries use a key to identify a value.*\n",
    "- *Packages give additional functionality to your code. Examples of packages: `math`, `numpy`, etc.*\n",
    "- *The dot operator indicates ownership. It can access functions and variables, depending on the context.*"
   ]
  },
  {
   "cell_type": "markdown",
   "id": "410d6de2-d5a7-4f93-b3ee-6aa004933137",
   "metadata": {},
   "source": [
    "# Exercise 2 (Debug me)"
   ]
  },
  {
   "cell_type": "code",
   "execution_count": 6,
   "id": "e8bc4f50-d139-44c3-945d-56e2c1a8d0a3",
   "metadata": {},
   "outputs": [
    {
     "name": "stdout",
     "output_type": "stream",
     "text": [
      "3 4 5\n"
     ]
    }
   ],
   "source": [
    "from math import sqrt\n",
    "\n",
    "x, y = 3, 4\n",
    "z = int(sqrt(x**2 + y**2))\n",
    "print(x, y, z)"
   ]
  },
  {
   "cell_type": "markdown",
   "id": "e9b0e783-ecb5-46df-802e-b5a71638867a",
   "metadata": {},
   "source": [
    "# Exercise 3 (In your own words)"
   ]
  },
  {
   "cell_type": "markdown",
   "id": "db3709a0-b295-4444-a78d-f2888102165d",
   "metadata": {},
   "source": [
    "| **#** | **Term**     | **Description**                                                                                           |\n",
    "|-------|--------------|-----------------------------------------------------------------------------------------------------------|\n",
    "| 1     | Function     | Code that performs an action.                                                                             |\n",
    "| 2     | Arguments    | Values that are passed into a function.                                                                   |\n",
    "| 3     | Comments     | Text that is used to add descriptions to code, making it easier to read..                                 |\n",
    "| 4     | Indentations | Spaces that are used to indicate the scope of Python code.                                                |\n",
    "| 5     | Packages     | Additional code that can be imported into Python to add more functionality.                               |\n",
    "| 6     | .            | The dot operator indicates ownership, and it can access variables and functions depending on the context. |\n",
    "| 7     | :            | The colon operator denotes the start of a function or an if statement.                                    |\n",
    "| 8     | []           | An list.                                                                                                 |\n",
    "| 9     | [[], []]     | A two-dimensional list.                                                                                  |\n",
    "| 10    | {}           | A dictionary.                                                                                             |"
   ]
  },
  {
   "cell_type": "markdown",
   "id": "dd69cec9-a588-4774-b399-fc3c5de325df",
   "metadata": {},
   "source": [
    "# Exercise 4 (More than one way to divide)"
   ]
  },
  {
   "cell_type": "code",
   "execution_count": 7,
   "id": "a8f6242a-f8b2-424c-85d8-63045f7d5dee",
   "metadata": {},
   "outputs": [
    {
     "data": {
      "text/plain": [
       "2.5"
      ]
     },
     "execution_count": 7,
     "metadata": {},
     "output_type": "execute_result"
    }
   ],
   "source": [
    "5 / 2        # This performs division and returns the result as a floating-point number."
   ]
  },
  {
   "cell_type": "code",
   "execution_count": 10,
   "id": "03e21d33-7735-454c-8a4f-bdd5f5a8c91a",
   "metadata": {},
   "outputs": [
    {
     "data": {
      "text/plain": [
       "2"
      ]
     },
     "execution_count": 10,
     "metadata": {},
     "output_type": "execute_result"
    }
   ],
   "source": [
    "5 // 2       # This performs integer division and rounds the result down to the nearest integer."
   ]
  },
  {
   "cell_type": "code",
   "execution_count": 11,
   "id": "8bbbd466-8f57-4da9-81b3-130f162cda9c",
   "metadata": {},
   "outputs": [
    {
     "data": {
      "text/plain": [
       "1"
      ]
     },
     "execution_count": 11,
     "metadata": {},
     "output_type": "execute_result"
    }
   ],
   "source": [
    "5 % 2        # This uses the modulo operator, which returns the remainder after division."
   ]
  }
 ],
 "metadata": {
  "kernelspec": {
   "display_name": "Python 3 (ipykernel)",
   "language": "python",
   "name": "python3"
  },
  "language_info": {
   "codemirror_mode": {
    "name": "ipython",
    "version": 3
   },
   "file_extension": ".py",
   "mimetype": "text/x-python",
   "name": "python",
   "nbconvert_exporter": "python",
   "pygments_lexer": "ipython3",
   "version": "3.12.5"
  },
  "toc": {
   "base_numbering": 1,
   "nav_menu": {},
   "number_sections": true,
   "sideBar": true,
   "skip_h1_title": false,
   "title_cell": "Table of Contents",
   "title_sidebar": "Contents",
   "toc_cell": false,
   "toc_position": {},
   "toc_section_display": true,
   "toc_window_display": false
  },
  "vscode": {
   "interpreter": {
    "hash": "31f2aee4e71d21fbe5cf8b01ff0e069b9275f58929596ceb00d14d90e3e16cd6"
   }
  }
 },
 "nbformat": 4,
 "nbformat_minor": 5
}
